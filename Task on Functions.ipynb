{
 "cells": [
  {
   "cell_type": "markdown",
   "id": "a62ebeb9",
   "metadata": {},
   "source": [
    "Task 1: Leap Year Checker\n",
    "\n",
    "Write a program that takes a year as input and determines whether it is a leap year or not. A leap year is a year that is divisible by 4, but not divisible by 100, unless it is also divisible by 400. Display an appropriate message indicating whether the year is a leap year or not.\n",
    "\n",
    "Task 2: Grade Calculator\n",
    "\n",
    "Write a program that takes a student's score as input (out of 100) and determines their grade based on the following conditions: If the score is 90 or above, the grade is 'A'. If the score is between 80 and 89, the grade is 'B'. If the score is between 70 and 79, the grade is 'C'. If the score is between 60 and 69, the grade is 'D'. If the score is below 60, the grade is 'F'. Display the grade corresponding to the entered score.\n",
    "\n",
    "Task 3: Calculator Write a program that takes two numbers as input and performs a mathematical operation (+, -, *, /) based on the user's choice. Use a conditional statement to determine the operation to be performed. Display the result of the calculation.\n",
    "\n",
    "Task 4: Reverse String Write a Python function to reverse a string.\n",
    "\n",
    "Task 5: Palindrome Write a Python function that checks whether a passed string is a palindrome or not.\n",
    "\n",
    "Task 6: Counting Write a Python function that accepts a string and counts the number of upper and lower case letters."
   ]
  },
  {
   "cell_type": "markdown",
   "id": "e96a8a5f",
   "metadata": {},
   "source": [
    "## Task 1: Leap Year Checker\n",
    "Write a program that takes a year as input and determines whether it is a leap year or not. A leap year is a year that is divisible by 4, but not divisible by 100, unless it is also divisible by 400. Display an appropriate message indicating whether the year is a leap year or not."
   ]
  },
  {
   "cell_type": "code",
   "execution_count": 6,
   "id": "06cc22b6",
   "metadata": {},
   "outputs": [
    {
     "name": "stdout",
     "output_type": "stream",
     "text": [
      "enter a year:: 2023\n",
      "2023 It is not a leap year\n"
     ]
    }
   ],
   "source": [
    "def leapyear(n):\n",
    "    if (n % 4) == 0 and (n % 400 ==0) or (n % 100 == 0):\n",
    "        print(n,\"It is a leap year\")\n",
    "    else:\n",
    "        print(n,\"It is not a leap year\")\n",
    "\n",
    "n= int(input(\"enter a year:: \"))\n",
    "leapyear(n)"
   ]
  },
  {
   "cell_type": "markdown",
   "id": "0b378af1",
   "metadata": {},
   "source": [
    "### Task 2: Grade Calculator\n",
    "Write a program that takes a student's score as input (out of 100) and determines their grade based on the following conditions: If the score is 90 or above, the grade is 'A'. If the score is between 80 and 89, the grade is 'B'. If the score is between 70 and 79, the grade is 'C'. If the score is between 60 and 69, the grade is 'D'. If the score is below 60, the grade is 'F'. Display the grade corresponding to the entered score."
   ]
  },
  {
   "cell_type": "code",
   "execution_count": 7,
   "id": "7d94abb7",
   "metadata": {},
   "outputs": [
    {
     "name": "stdout",
     "output_type": "stream",
     "text": [
      "enter students score:: 90\n",
      "A\n"
     ]
    }
   ],
   "source": [
    "def marks(n):\n",
    "    if (score>=90):\n",
    "        print(\"A\")\n",
    "    elif(score >= 80) and (score <= 89):\n",
    "        print(\"B\")\n",
    "    elif(score >= 70) and (score <= 79):\n",
    "        print(\"C\")\n",
    "    elif(score >=60) and (score <= 69):\n",
    "        print(\"D\")\n",
    "    elif(score < 0) and (score > 100):\n",
    "        print(\"enter a valid score\")\n",
    "    else:\n",
    "        print(\"F\")\n",
    "score = int(input(\"enter students score:: \"))\n",
    "marks(n)"
   ]
  },
  {
   "cell_type": "markdown",
   "id": "4fad5dcc",
   "metadata": {},
   "source": [
    "## Task 3: Calculator Write a program that takes two numbers as input and performs a mathematical operation (+, -, *, /) based on the user's choice. Use a conditional statement to determine the operation to be performed. Display the result of the calculation."
   ]
  },
  {
   "cell_type": "code",
   "execution_count": 9,
   "id": "ea11dfd4",
   "metadata": {},
   "outputs": [
    {
     "name": "stdout",
     "output_type": "stream",
     "text": [
      "enter a number x::20\n",
      "enter a number y::30\n",
      " + addition,- subtraction,* multiplication,/ division+\n",
      "50 is addition of two numbers\n"
     ]
    }
   ],
   "source": [
    "x = int(input(\"enter a number x::\"))\n",
    "y = int(input(\"enter a number y::\"))\n",
    "\n",
    "operation = input(\"\"\" + addition,- subtraction,* multiplication,/ division\"\"\")\n",
    "\n",
    "if (operation == '+'):\n",
    "    print(x+y,\"is addition of two numbers\")\n",
    "    \n",
    "elif (operation == '-'):\n",
    "    print(x-y,\"is subtraction of two numbers\")\n",
    "    \n",
    "elif (operation == '*'):\n",
    "    print(x*y,\"is multiplication of two numbers\")\n",
    "    \n",
    "elif (operation == '/'):\n",
    "    print(x/y,\"is division of two numbers\")\n",
    "    \n",
    "else:\n",
    "    print(\"enter a valid operator\")"
   ]
  },
  {
   "cell_type": "markdown",
   "id": "238ef5d1",
   "metadata": {},
   "source": [
    "## Task 4: Reverse String Write a Python function to reverse a string.\n"
   ]
  },
  {
   "cell_type": "code",
   "execution_count": 10,
   "id": "b54e0013",
   "metadata": {},
   "outputs": [
    {
     "name": "stdout",
     "output_type": "stream",
     "text": [
      "enter a name:: Subhasri\n"
     ]
    },
    {
     "data": {
      "text/plain": [
       "'irsahbuS'"
      ]
     },
     "execution_count": 10,
     "metadata": {},
     "output_type": "execute_result"
    }
   ],
   "source": [
    "def string(name):\n",
    "    return name[-1::-1]\n",
    "\n",
    "rever= input(\"enter a name:: \")\n",
    "string(rever)"
   ]
  },
  {
   "cell_type": "markdown",
   "id": "8f6e2bd2",
   "metadata": {},
   "source": [
    "## Task 5: Palindrome Write a Python function that checks whether a passed string is a palindrome or not.\n"
   ]
  },
  {
   "cell_type": "code",
   "execution_count": 5,
   "id": "b1d6d0bb",
   "metadata": {},
   "outputs": [
    {
     "name": "stdout",
     "output_type": "stream",
     "text": [
      "enter string::Subhasri\n",
      "It is not a palindrome\n"
     ]
    }
   ],
   "source": [
    "def palindrome(name):\n",
    "    \n",
    "    while name:\n",
    "        \n",
    "        if name == name[-1: :-1]:\n",
    "            print(\"It is a plaindrome\")\n",
    "            break\n",
    "            \n",
    "        else:\n",
    "            print(\"It is not a palindrome\")\n",
    "            break\n",
    "            \n",
    "name = input(\"enter string::\")\n",
    "palindrome(name)"
   ]
  },
  {
   "cell_type": "markdown",
   "id": "26a207bb",
   "metadata": {},
   "source": [
    "## Task 6: Counting Write a Python function that accepts a string and counts the number of upper and lower case letters."
   ]
  },
  {
   "cell_type": "code",
   "execution_count": 1,
   "id": "01ba7890",
   "metadata": {},
   "outputs": [
    {
     "name": "stdout",
     "output_type": "stream",
     "text": [
      "enter your nick name::Subha\n"
     ]
    }
   ],
   "source": [
    "def up_low(n):\n",
    "    \n",
    "    upper = [\"A\",\"B\",\"C\",\"D\",\"E\",\"F\",\"G\",\"H\",\"I\",\"J\",\"K\",\"L\",\"M\",\"N\",\"O\",\"P\",\"Q\",\"R\",\"S\",\"T\",\"U\",\"V\",\"W\",\"X\",\"Y\",\"Z\"]\n",
    "    up_per = []\n",
    "    lower = [\"a\",\"b\",\"c\",\"d\",\"e\",\"f\",\"g\",\"h\",\"i\",\"j\",\"k\",\"l\",\"m\",\"n\",\"o\",\"p\",\"q\",\"r\",\"s\",\"t\",\"u\",\"v\",\"w\",\"x\",\"y\",\"z\"]\n",
    "    low_er= []\n",
    "    \n",
    "    for i in n:\n",
    "        if i in upper:\n",
    "            up_per.append(i)\n",
    "            \n",
    "        else:\n",
    "            low_er.append(i)\n",
    "        \n",
    "n = input(\"enter your nick name::\")\n",
    "up_low(n)"
   ]
  },
  {
   "cell_type": "code",
   "execution_count": null,
   "id": "e756f4bc",
   "metadata": {},
   "outputs": [],
   "source": []
  },
  {
   "cell_type": "code",
   "execution_count": null,
   "id": "e2c8677e",
   "metadata": {},
   "outputs": [],
   "source": []
  },
  {
   "cell_type": "code",
   "execution_count": null,
   "id": "a27019ec",
   "metadata": {},
   "outputs": [],
   "source": []
  },
  {
   "cell_type": "code",
   "execution_count": null,
   "id": "49a867f5",
   "metadata": {},
   "outputs": [],
   "source": [
    "\n"
   ]
  }
 ],
 "metadata": {
  "kernelspec": {
   "display_name": "Python 3 (ipykernel)",
   "language": "python",
   "name": "python3"
  },
  "language_info": {
   "codemirror_mode": {
    "name": "ipython",
    "version": 3
   },
   "file_extension": ".py",
   "mimetype": "text/x-python",
   "name": "python",
   "nbconvert_exporter": "python",
   "pygments_lexer": "ipython3",
   "version": "3.11.4"
  }
 },
 "nbformat": 4,
 "nbformat_minor": 5
}
